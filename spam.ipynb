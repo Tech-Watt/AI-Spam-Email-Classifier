{
 "cells": [
  {
   "cell_type": "code",
   "execution_count": 1,
   "metadata": {},
   "outputs": [],
   "source": [
    "from dotenv import load_dotenv\n",
    "from langchain.prompts import PromptTemplate\n",
    "from langchain_core.output_parsers import StrOutputParser\n",
    "from langchain_groq import ChatGroq\n",
    "import os"
   ]
  },
  {
   "cell_type": "code",
   "execution_count": 24,
   "metadata": {},
   "outputs": [],
   "source": [
    "load_dotenv()\n",
    "api_key = os.getenv('OLLAMA_API_KEY')\n",
    "model = ChatGroq(api_key = api_key,model_name = 'llama3-70b-8192')\n"
   ]
  },
  {
   "cell_type": "code",
   "execution_count": 6,
   "metadata": {},
   "outputs": [
    {
     "data": {
      "text/plain": [
       "\"Coding, also known as computer programming, is the process of designing, writing, testing, and maintaining the instructions that a computer follows to perform a specific task. These instructions, also known as code, are written in one or more programming languages, which are used to communicate with a computer and tell it what to do.\\n\\nThink of coding like writing a recipe for your favorite dish. Just as a recipe provides step-by-step instructions for combining ingredients and cooking techniques to produce a delicious meal, code provides step-by-step instructions for a computer to perform a specific task, such as:\\n\\n* Calculating a mathematical formula\\n* Displaying a website or mobile app\\n* Controlling a robot or machine\\n* Analyzing data to make predictions or recommendations\\n* Automating a business process\\n\\nThe coding process typically involves:\\n\\n1. **Analysis**: Identifying the problem or opportunity and defining the requirements for the solution.\\n2. **Design**: Creating a detailed design or blueprint for the solution, including the algorithms and data structures to be used.\\n3. **Implementation**: Writing the code in a programming language, such as Python, Java, or C++, to implement the design.\\n4. **Testing**: Verifying that the code works as expected, fixing errors, and optimizing performance.\\n5. **Maintenance**: Updating, refining, and expanding the code to ensure it continues to meet the changing needs of its users.\\n\\nCoding involves a range of skills, including:\\n\\n* **Problem-solving**: Breaking down complex problems into smaller, manageable parts and finding creative solutions.\\n* **Logical thinking**: Understanding the logical flow of a program and how to write efficient, readable code.\\n* **Attention to detail**: Ensuring that the code is accurate, complete, and free of errors.\\n* **Communication**: Collaborating with others, documenting code, and explaining technical concepts to non-technical stakeholders.\\n\\nCoding is a fundamental skill in many industries, including:\\n\\n* Software development\\n* Web development\\n* Mobile app development\\n* Data science and analytics\\n* Artificial intelligence and machine learning\\n* Cybersecurity\\n* Robotics and automation\\n\\nIf you're interested in learning to code, there are many resources available, including online courses, coding bootcamps, and books. With persistence and practice, you can develop the skills needed to become a proficient coder and open up new career opportunities in the tech industry.\""
      ]
     },
     "execution_count": 6,
     "metadata": {},
     "output_type": "execute_result"
    }
   ],
   "source": [
    "parser = StrOutputParser()\n",
    "chain = model | parser\n",
    "chain.invoke('what is coding')"
   ]
  },
  {
   "cell_type": "code",
   "execution_count": 7,
   "metadata": {},
   "outputs": [],
   "source": [
    "templete = (\n",
    "\"\"\"\n",
    "As an expert spam email classifier,You are  equipped to analyze and categorize \n",
    "any given email as either spam or non-spam. Upon evaluation, \n",
    "You will generate a comprehensive report detailing the classification outcome.\n",
    "\n",
    "email:{email}\n",
    "\"\"\"\n",
    ")"
   ]
  },
  {
   "cell_type": "code",
   "execution_count": 9,
   "metadata": {},
   "outputs": [
    {
     "name": "stdout",
     "output_type": "stream",
     "text": [
      "\n",
      "As an expert spam email classifier,You are  equipped to analyze and categorize \n",
      "any given email as either spam or non-spam. Upon evaluation, \n",
      "You will generate a comprehensive report detailing the classification outcome.\n",
      "\n",
      "email:Here is the email: \n",
      "\n"
     ]
    }
   ],
   "source": [
    "prompt = PromptTemplate.from_template(template=templete)\n",
    "print(prompt.format(email = 'Here is the email: '))\n"
   ]
  },
  {
   "cell_type": "code",
   "execution_count": 25,
   "metadata": {},
   "outputs": [],
   "source": [
    "mail = \"\"\"\n",
    "Hi, i am Patel Cauchi, a Research Assistant at a Bio-Pharmaceutical company based in the United Kingdom. I am currently seeking a trustworthy business professional or individual in your region who can act as our representative in procuring essential raw materials that are urgently required for our production processes. This presents a mutually advantageous business opportunity that I believe will capture your interest.\n",
    "\n",
    "Upon receiving your response, I will provide you with comprehensive details about this endeavor.\n",
    "\n",
    "Thank you for considering this proposal, and I look forward to hearing from you soon.\n",
    "\n",
    "\"\"\""
   ]
  },
  {
   "cell_type": "code",
   "execution_count": 26,
   "metadata": {},
   "outputs": [],
   "source": [
    "chain = prompt | model | parser\n",
    "result = chain.invoke(mail)"
   ]
  },
  {
   "cell_type": "code",
   "execution_count": 27,
   "metadata": {},
   "outputs": [
    {
     "name": "stdout",
     "output_type": "stream",
     "text": [
      "**Spam Email Classification Report**\n",
      "\n",
      "**Email ID:** [Not Provided]\n",
      "**Classification:** SPAM\n",
      "**Confidence Level:** 95%\n",
      "\n",
      "**Reasons for Classification:**\n",
      "\n",
      "1. **Urgency Tactic:** The email creates a sense of urgency by stating that the raw materials are \"urgently required\" for production processes, which is a common tactic used by spammers to create a false sense of importance.\n",
      "2. **Vagueness:** The email lacks specific details about the company, the production processes, and the raw materials required, which is unusual for a legitimate business inquiry.\n",
      "3. **Overly Broad Request:** The email is seeking a \"trustworthy business professional or individual\" without specifying any particular qualifications or expertise, which is a common trait of spam emails.\n",
      "4. **Lack of Personalization:** Despite claiming to be a Research Assistant at a specific company, the email does not address the recipient by name or show any knowledge of their background or expertise.\n",
      "5. **Generic Greeting and Closing:** The email uses a generic greeting (\"Hi\") and closing (\"Thank you for considering this proposal\"), which is uncommon in professional business communications.\n",
      "6. **Suspicious Tone:** The tone of the email is overly promotional and focuses on the potential benefits of the opportunity rather than providing concrete information about the company or the proposal.\n",
      "\n",
      "**Recommendation:** Delete or mark as spam. This email is likely a phishing attempt or an advance fee scam.\n"
     ]
    }
   ],
   "source": [
    "print(result)"
   ]
  },
  {
   "cell_type": "code",
   "execution_count": null,
   "metadata": {},
   "outputs": [],
   "source": []
  }
 ],
 "metadata": {
  "kernelspec": {
   "display_name": ".venv",
   "language": "python",
   "name": "python3"
  },
  "language_info": {
   "codemirror_mode": {
    "name": "ipython",
    "version": 3
   },
   "file_extension": ".py",
   "mimetype": "text/x-python",
   "name": "python",
   "nbconvert_exporter": "python",
   "pygments_lexer": "ipython3",
   "version": "3.10.0"
  }
 },
 "nbformat": 4,
 "nbformat_minor": 2
}
